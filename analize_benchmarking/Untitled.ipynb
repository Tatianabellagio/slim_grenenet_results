{
 "cells": [
  {
   "cell_type": "code",
   "execution_count": 1,
   "id": "38969fd5-4038-4e12-876a-c935dbb98e5f",
   "metadata": {},
   "outputs": [],
   "source": [
    "import pandas as pd\n",
    "import os \n",
    "import glob\n",
    "import seaborn as sns\n",
    "import matplotlib.pyplot as plt\n"
   ]
  },
  {
   "cell_type": "markdown",
   "id": "e1a90df1-d955-4a55-be82-a7665c617bcb",
   "metadata": {},
   "source": [
    "s\tfloat (seconds)\tRunning time in seconds\n",
    "\n",
    "h:m:s\tstring (-)\tRunning time in hour, minutes, seconds format\n",
    "\n",
    "max_rss\tfloat (MB)\tMaximum \"Resident Set Size”, this is the non-swapped physical memory a process has used.\n",
    "\n",
    "max_vms\tfloat (MB)\tMaximum “Virtual Memory Size”, this is the total amount of virtual memory used by the process\n",
    "\n",
    "max_uss\tfloat (MB)\t“Unique Set Size”, this is the memory which is unique to a process and which would be freed if the process was terminated right now.\n",
    "\n",
    "max_pss\tfloat (MB)\t“Proportional Set Size”, is the amount of memory shared with other processes, accounted in a way that the amount is divided evenly between the processes \n",
    "that share it (Linux only)\n",
    "\n",
    "io_in\tfloat (MB)\tthe number of MB read (cumulative).\n",
    "\n",
    "io_out\tfloat (MB)\tthe number of MB written (cumulative).\n",
    "\n",
    "mean_load\tfloat (-)\tCPU usage over time, divided by the total running time (first row)\n",
    "\n",
    "cpu_time\tfloat(-)\tCPU time summed for user and system"
   ]
  },
  {
   "cell_type": "code",
   "execution_count": 2,
   "id": "a277328d-cd84-42ff-934a-8228ab7a875e",
   "metadata": {},
   "outputs": [],
   "source": [
    "def readable_benchmark(df):\n",
    "    df['max_rssKB'] = df['max_rss'] / 1024\n",
    "    df['max_vmsKB']  = df['max_vms'] / 1024\n",
    "    df['max_ussKB'] = df['max_uss'] / 1024\n",
    "    df['max_pssKB'] = df['max_pss'] / 1024\n",
    "    df['io_inMB'] = df['io_in'] \n",
    "    df['io_outMB'] = df['io_out'] \n",
    "    df['mean_loadMB'] = df['mean_load'] \n",
    "\n",
    "    df['runningtimeMIN'] = df['s']/ 60\n",
    "\n",
    "    seconds = int(df['cpu_time'])\n",
    "    hours, remainder = divmod(seconds, 3600)\n",
    "    minutes, seconds = divmod(remainder, 60)\n",
    "    time_readable_CPU = f'{hours}:{minutes:02}:{seconds:02}'\n",
    "\n",
    "    df['cpu_time'] = time_readable_CPU\n",
    "\n",
    "    df = df.drop(['s','max_rss', 'max_vms', 'max_uss', 'max_pss', 'io_in',\n",
    "           'io_out', 'mean_load'], axis=1)\n",
    "    return df"
   ]
  },
  {
   "cell_type": "code",
   "execution_count": 3,
   "id": "7b6d6436-de52-4a87-bbd1-70b41822c2d5",
   "metadata": {},
   "outputs": [],
   "source": [
    "pattern = os.path.join('/home/tbellagio/scratch/slim_grenenet/benchmarks', '**', '*.txt')\n",
    "\n",
    "benchmark_files = glob.glob(pattern, recursive=True)"
   ]
  },
  {
   "cell_type": "code",
   "execution_count": 4,
   "id": "dd08d199-ba68-45ee-8db2-f03b1eca5b38",
   "metadata": {},
   "outputs": [],
   "source": [
    "all_benchmarks = dict()\n",
    "for i in benchmark_files:\n",
    "\n",
    "    df = pd.read_csv(i, sep = '\\t')\n",
    "\n",
    "    df = readable_benchmark(df)\n",
    "\n",
    "    df['model'] = i.split('benchmarks/')[1].replace('.txt', '').split('/')[0]\n",
    "    df['details'] =  i.split('benchmarks/')[1].replace('.txt', '').split('/')[1]\n",
    "    \n",
    "    all_benchmarks[i] = df"
   ]
  },
  {
   "cell_type": "code",
   "execution_count": 5,
   "id": "fba70bc8-71dd-478d-9c1a-772be769c3d5",
   "metadata": {},
   "outputs": [],
   "source": [
    "all_benchmarks = pd.concat(all_benchmarks).reset_index(drop=True)"
   ]
  },
  {
   "cell_type": "code",
   "execution_count": null,
   "id": "4cadcd0d-12c7-471a-a429-d1a21aafe090",
   "metadata": {},
   "outputs": [],
   "source": []
  },
  {
   "cell_type": "code",
   "execution_count": 14,
   "id": "aaf57920-ca37-42fe-b7c2-2cbbfb1fda68",
   "metadata": {},
   "outputs": [
    {
     "data": {
      "text/plain": [
       "<AxesSubplot:xlabel='runningtimeMIN', ylabel='Count'>"
      ]
     },
     "execution_count": 14,
     "metadata": {},
     "output_type": "execute_result"
    },
    {
     "data": {
      "image/png": "[encoded data removed]",
      "text/plain": [
       "<Figure size 432x288 with 1 Axes>"
      ]
     },
     "metadata": {
      "needs_background": "light"
     },
     "output_type": "display_data"
    }
   ],
   "source": [
    "sns.histplot(all_benchmarks[all_benchmarks['model'] == 'lmm_nopc10env']['runningtimeMIN'] / 60)"
   ]
  },
  {
   "cell_type": "code",
   "execution_count": 13,
   "id": "df58a87b-19d5-4f22-8770-2505c94ea57a",
   "metadata": {},
   "outputs": [
    {
     "data": {
      "text/plain": [
       "7.666666666666667"
      ]
     },
     "execution_count": 13,
     "metadata": {},
     "output_type": "execute_result"
    }
   ],
   "source": [
    "460/60"
   ]
  },
  {
   "cell_type": "code",
   "execution_count": 15,
   "id": "818ecc17-d6e2-4093-8dd7-699e89578893",
   "metadata": {},
   "outputs": [
    {
     "data": {
      "text/plain": [
       "480"
      ]
     },
     "execution_count": 15,
     "metadata": {},
     "output_type": "execute_result"
    }
   ],
   "source": [
    "60*8"
   ]
  },
  {
   "cell_type": "code",
   "execution_count": 6,
   "id": "c134b86a-8e9b-458b-af4a-7065c958e522",
   "metadata": {},
   "outputs": [
    {
     "data": {
      "text/plain": [
       "<AxesSubplot:xlabel='model', ylabel='runningtimeMIN'>"
      ]
     },
     "execution_count": 6,
     "metadata": {},
     "output_type": "execute_result"
    },
    {
     "data": {
      "image/png": "[encoded data removed]",
      "text/plain": [
       "<Figure size 720x576 with 1 Axes>"
      ]
     },
     "metadata": {
      "needs_background": "light"
     },
     "output_type": "display_data"
    }
   ],
   "source": [
    "plt.figure(figsize=(10,8))  # set plot size (denoted in inches)\n",
    "sns.boxplot(data = all_benchmarks, y = 'runningtimeMIN', x = 'model')"
   ]
  },
  {
   "cell_type": "code",
   "execution_count": 103,
   "id": "d752427d-44f1-4dd6-a132-0e8e49d16bf9",
   "metadata": {},
   "outputs": [
    {
     "data": {
      "text/plain": [
       "<AxesSubplot:xlabel='model', ylabel='max_vmsKB'>"
      ]
     },
     "execution_count": 103,
     "metadata": {},
     "output_type": "execute_result"
    },
    {
     "data": {
      "image/png": "[encoded data removed]",
      "text/plain": [
       "<Figure size 720x576 with 1 Axes>"
      ]
     },
     "metadata": {
      "needs_background": "light"
     },
     "output_type": "display_data"
    }
   ],
   "source": [
    "plt.figure(figsize=(10,8))  # set plot size (denoted in inches)\n",
    "sns.boxplot(data = all_benchmarks, y = 'max_vmsKB', x = 'model')"
   ]
  },
  {
   "cell_type": "code",
   "execution_count": 104,
   "id": "9a5018c1-ed72-47d7-a6ff-dd04f7ced787",
   "metadata": {},
   "outputs": [
    {
     "data": {
      "text/plain": [
       "<AxesSubplot:xlabel='model', ylabel='mean_loadMB'>"
      ]
     },
     "execution_count": 104,
     "metadata": {},
     "output_type": "execute_result"
    },
    {
     "data": {
      "image/png": "[encoded data removed]",
      "text/plain": [
       "<Figure size 720x576 with 1 Axes>"
      ]
     },
     "metadata": {
      "needs_background": "light"
     },
     "output_type": "display_data"
    }
   ],
   "source": [
    "plt.figure(figsize=(10,8))  # set plot size (denoted in inches)\n",
    "sns.boxplot(data = all_benchmarks, y = 'mean_loadMB', x = 'model')"
   ]
  },
  {
   "cell_type": "code",
   "execution_count": 69,
   "id": "a37df4c9-e1d1-46f6-acb6-fd09a43299c4",
   "metadata": {},
   "outputs": [],
   "source": []
  },
  {
   "cell_type": "code",
   "execution_count": null,
   "id": "4fb13cb0-673d-4328-bac0-cddbdedcfe70",
   "metadata": {},
   "outputs": [],
   "source": []
  },
  {
   "cell_type": "code",
   "execution_count": null,
   "id": "ac056682-2293-4ce6-acbc-0f8e0a87a90b",
   "metadata": {},
   "outputs": [],
   "source": []
  },
  {
   "cell_type": "code",
   "execution_count": null,
   "id": "dfe2baa5-36fb-4080-ab02-debba4e1c126",
   "metadata": {},
   "outputs": [],
   "source": []
  }
 ],
 "metadata": {
  "kernelspec": {
   "display_name": "Python 3 (ipykernel)",
   "language": "python",
   "name": "python3"
  },
  "language_info": {
   "codemirror_mode": {
    "name": "ipython",
    "version": 3
   },
   "file_extension": ".py",
   "mimetype": "text/x-python",
   "name": "python",
   "nbconvert_exporter": "python",
   "pygments_lexer": "ipython3",
   "version": "3.9.13"
  }
 },
 "nbformat": 4,
 "nbformat_minor": 5
}
